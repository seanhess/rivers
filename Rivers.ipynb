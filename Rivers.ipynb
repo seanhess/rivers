{
 "cells": [
  {
   "cell_type": "code",
   "execution_count": 122,
   "id": "328256e6-16c3-48ae-8e1e-1afa7529040b",
   "metadata": {},
   "outputs": [
    {
     "data": {
      "text/plain": [
       "<module 'scrape' from '/Users/shess/code/rivers/scrape.py'>"
      ]
     },
     "execution_count": 122,
     "metadata": {},
     "output_type": "execute_result"
    }
   ],
   "source": [
    "import scrape\n",
    "import requests\n",
    "\n",
    "import scrape as sc\n",
    "from importlib import reload\n",
    "reload(sc)\n",
    "\n",
    "\n"
   ]
  },
  {
   "cell_type": "code",
   "execution_count": 102,
   "id": "8164763e-7b8a-454e-97ed-07f0ca2b45e3",
   "metadata": {},
   "outputs": [
    {
     "data": {
      "text/plain": [
       "'d41d8cd98f00b204e9800998ecf8427e'"
      ]
     },
     "execution_count": 102,
     "metadata": {},
     "output_type": "execute_result"
    }
   ],
   "source": [
    "sc.hash(\"\")"
   ]
  },
  {
   "cell_type": "code",
   "execution_count": 110,
   "id": "96a24cdd-0172-429b-8503-9396ea91d968",
   "metadata": {},
   "outputs": [
    {
     "name": "stdout",
     "output_type": "stream",
     "text": [
      "may\n"
     ]
    }
   ],
   "source": [
    "sc.run_check_month(\"may\")"
   ]
  },
  {
   "cell_type": "code",
   "execution_count": 111,
   "id": "a0b03ed6-0614-40ce-aa5c-00a44ac1dbc0",
   "metadata": {},
   "outputs": [
    {
     "name": "stdout",
     "output_type": "stream",
     "text": [
      "may\n"
     ]
    }
   ],
   "source": [
    "sc.run_check_month(\"may\")"
   ]
  },
  {
   "cell_type": "code",
   "execution_count": 112,
   "id": "17fd69cd-43b4-4994-a408-c170a96e7615",
   "metadata": {},
   "outputs": [
    {
     "name": "stdout",
     "output_type": "stream",
     "text": [
      "RUN 2024-03-06 10:39:17.018596\n",
      "may\n",
      "jun\n",
      "DIFF jun old=d41d8cd98f00b204e9800998ecf8427e new=e620c32ae3557fd3bbc3401610da6ffd\n",
      "jul\n",
      "DIFF jul old=d41d8cd98f00b204e9800998ecf8427e new=10f7105c139e2e85365807c333e57170\n",
      "aug\n",
      "DIFF aug old=d41d8cd98f00b204e9800998ecf8427e new=2877831cc76923b51fdd168f720c526f\n",
      "sep\n",
      "DIFF sep old=d41d8cd98f00b204e9800998ecf8427e new=b8dc76835ad6f8778977a023834c5d71\n"
     ]
    }
   ],
   "source": [
    "sc.run_check()"
   ]
  },
  {
   "cell_type": "code",
   "execution_count": 123,
   "id": "26d467a8-ef19-4927-9156-d08de0b77c8f",
   "metadata": {},
   "outputs": [
    {
     "name": "stdout",
     "output_type": "stream",
     "text": [
      "RUN 2024-03-06 10:42:05.569469\n",
      "may\n",
      "jun\n",
      "jul\n",
      "aug\n",
      "sep\n"
     ]
    }
   ],
   "source": [
    "sc.run_check()"
   ]
  },
  {
   "cell_type": "code",
   "execution_count": null,
   "id": "eccedeb1-44be-4570-9e7c-e0f95a6f8ccf",
   "metadata": {},
   "outputs": [],
   "source": []
  }
 ],
 "metadata": {
  "kernelspec": {
   "display_name": "Python 3 (ipykernel)",
   "language": "python",
   "name": "python3"
  },
  "language_info": {
   "codemirror_mode": {
    "name": "ipython",
    "version": 3
   },
   "file_extension": ".py",
   "mimetype": "text/x-python",
   "name": "python",
   "nbconvert_exporter": "python",
   "pygments_lexer": "ipython3",
   "version": "3.11.4"
  }
 },
 "nbformat": 4,
 "nbformat_minor": 5
}
