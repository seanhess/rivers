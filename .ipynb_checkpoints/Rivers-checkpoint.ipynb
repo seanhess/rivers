{
 "cells": [
  {
   "cell_type": "code",
   "execution_count": 62,
   "id": "328256e6-16c3-48ae-8e1e-1afa7529040b",
   "metadata": {},
   "outputs": [
    {
     "data": {
      "text/plain": [
       "<module 'scrape' from '/Users/shess/code/rivers/scrape.py'>"
      ]
     },
     "execution_count": 62,
     "metadata": {},
     "output_type": "execute_result"
    }
   ],
   "source": [
    "import scrape\n",
    "import requests\n",
    "\n",
    "import scrape as sc\n",
    "from importlib import reload\n",
    "reload(sc)\n",
    "\n",
    "\n"
   ]
  },
  {
   "cell_type": "code",
   "execution_count": 61,
   "id": "96a24cdd-0172-429b-8503-9396ea91d968",
   "metadata": {},
   "outputs": [
    {
     "data": {
      "text/plain": [
       "['e45b811b86087853c9848d6f582fa1a8',\n",
       " 'e620c32ae3557fd3bbc3401610da6ffd',\n",
       " '10f7105c139e2e85365807c333e57170',\n",
       " '2877831cc76923b51fdd168f720c526f',\n",
       " '9406aa3c6fbe49f2fcb6ade2eefb7fed']"
      ]
     },
     "execution_count": 61,
     "metadata": {},
     "output_type": "execute_result"
    }
   ],
   "source": [
    "\n",
    "\n",
    "sc.check_availability()"
   ]
  },
  {
   "cell_type": "code",
   "execution_count": null,
   "id": "a0b03ed6-0614-40ce-aa5c-00a44ac1dbc0",
   "metadata": {},
   "outputs": [],
   "source": []
  },
  {
   "cell_type": "code",
   "execution_count": null,
   "id": "17fd69cd-43b4-4994-a408-c170a96e7615",
   "metadata": {},
   "outputs": [],
   "source": []
  }
 ],
 "metadata": {
  "kernelspec": {
   "display_name": "Python 3 (ipykernel)",
   "language": "python",
   "name": "python3"
  },
  "language_info": {
   "codemirror_mode": {
    "name": "ipython",
    "version": 3
   },
   "file_extension": ".py",
   "mimetype": "text/x-python",
   "name": "python",
   "nbconvert_exporter": "python",
   "pygments_lexer": "ipython3",
   "version": "3.11.4"
  }
 },
 "nbformat": 4,
 "nbformat_minor": 5
}
